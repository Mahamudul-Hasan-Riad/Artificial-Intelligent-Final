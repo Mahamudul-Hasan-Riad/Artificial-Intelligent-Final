{
 "cells": [
  {
   "cell_type": "markdown",
   "metadata": {},
   "source": [
    "# Python Variable"
   ]
  },
  {
   "cell_type": "code",
   "execution_count": 1,
   "metadata": {},
   "outputs": [
    {
     "name": "stdout",
     "output_type": "stream",
     "text": [
      "Learning python by Exercises\n"
     ]
    }
   ],
   "source": [
    "A = \"Learning python by \"\n",
    "B = \"Exercises\"\n",
    "C = A + B\n",
    "print(C)"
   ]
  },
  {
   "cell_type": "markdown",
   "metadata": {},
   "source": [
    "# Loop: Break Statement"
   ]
  },
  {
   "cell_type": "code",
   "execution_count": 2,
   "metadata": {},
   "outputs": [
    {
     "name": "stdout",
     "output_type": "stream",
     "text": [
      "riad\n",
      "hasan\n",
      "rahat\n"
     ]
    }
   ],
   "source": [
    "names = [\"riad\", \"hasan\", \"rahat\",\"ahad\"]\n",
    "for x in names:\n",
    "  print(x) \n",
    "  if x == \"rahat\":\n",
    "    break"
   ]
  },
  {
   "cell_type": "markdown",
   "metadata": {},
   "source": [
    "# Loop: Break come before the print"
   ]
  },
  {
   "cell_type": "code",
   "execution_count": 3,
   "metadata": {},
   "outputs": [
    {
     "name": "stdout",
     "output_type": "stream",
     "text": [
      "riad\n",
      "hasan\n"
     ]
    }
   ],
   "source": [
    "names = [\"riad\", \"hasan\", \"rahat\",\"ahad\"]\n",
    "for x in names:\n",
    "  if x == \"rahat\":\n",
    "    break\n",
    "  print(x) \n"
   ]
  },
  {
   "cell_type": "markdown",
   "metadata": {},
   "source": [
    "# List:-Find position of element in the list"
   ]
  },
  {
   "cell_type": "code",
   "execution_count": 4,
   "metadata": {},
   "outputs": [
    {
     "name": "stdout",
     "output_type": "stream",
     "text": [
      "The index of e: 1\n",
      "The index of i: 2\n"
     ]
    }
   ],
   "source": [
    "# vowels list\n",
    "vowels = ['a', 'e', 'i', 'o', 'i', 'u']\n",
    "\n",
    "# element 'e' is searched\n",
    "index = vowels.index('e')\n",
    "\n",
    "# index of 'e' is printed\n",
    "print('The index of e:', index)\n",
    "\n",
    "# element 'i' is searched\n",
    "index = vowels.index('i')\n",
    "\n",
    "# only the first index of the element is printed\n",
    "print('The index of i:', index)"
   ]
  },
  {
   "cell_type": "markdown",
   "metadata": {},
   "source": [
    "# if elif else"
   ]
  },
  {
   "cell_type": "code",
   "execution_count": 5,
   "metadata": {},
   "outputs": [
    {
     "name": "stdout",
     "output_type": "stream",
     "text": [
      "Positive number\n"
     ]
    }
   ],
   "source": [
    "num = 3.4\n",
    "\n",
    "if num > 0:\n",
    "    print(\"Positive number\")\n",
    "elif num == 0:\n",
    "    print(\"Zero\")\n",
    "else:\n",
    "    print(\"Negative number\")"
   ]
  },
  {
   "cell_type": "markdown",
   "metadata": {},
   "source": [
    "# Python Number"
   ]
  },
  {
   "cell_type": "code",
   "execution_count": 6,
   "metadata": {},
   "outputs": [
    {
     "name": "stdout",
     "output_type": "stream",
     "text": [
      "5 is of type <class 'int'>\n",
      "2.0 is of type <class 'float'>\n",
      "3 is complex number? True\n"
     ]
    }
   ],
   "source": [
    "A=5\n",
    "print(A, \"is of type\", type(A))\n",
    "\n",
    "B=2.0\n",
    "print(B, \"is of type\",type(B))\n",
    "\n",
    "C=1+2\n",
    "print(C, \"is complex number?\", isinstance(1+2j, complex))"
   ]
  },
  {
   "cell_type": "markdown",
   "metadata": {},
   "source": [
    "#  Operators in Python"
   ]
  },
  {
   "cell_type": "code",
   "execution_count": 7,
   "metadata": {},
   "outputs": [
    {
     "name": "stdout",
     "output_type": "stream",
     "text": [
      "x + y = 19\n",
      "x - y = 11\n",
      "x * y = 60\n",
      "x / y = 3.75\n"
     ]
    }
   ],
   "source": [
    "x = 15\n",
    "y = 4\n",
    "\n",
    "# Output: x + y = 19\n",
    "print('x + y =',x+y)\n",
    "\n",
    "# Output: x - y = 11\n",
    "print('x - y =',x-y)\n",
    "\n",
    "# Output: x * y = 60\n",
    "print('x * y =',x*y)\n",
    "\n",
    "# Output: x / y = 3.75\n",
    "print('x / y =',x/y)"
   ]
  },
  {
   "cell_type": "markdown",
   "metadata": {},
   "source": [
    "# Operation in comparison"
   ]
  },
  {
   "cell_type": "code",
   "execution_count": 8,
   "metadata": {},
   "outputs": [
    {
     "name": "stdout",
     "output_type": "stream",
     "text": [
      "x > y  is False\n",
      "x < y  is True\n",
      "x == y is False\n",
      "x != y is True\n"
     ]
    }
   ],
   "source": [
    "x = 10\n",
    "y = 12\n",
    "\n",
    "# Output: x > y is False\n",
    "print('x > y  is',x>y)\n",
    "\n",
    "# Output: x < y is True\n",
    "print('x < y  is',x<y)\n",
    "\n",
    "# Output: x == y is False\n",
    "print('x == y is',x==y)\n",
    "\n",
    "# Output: x != y is True\n",
    "print('x != y is',x!=y)"
   ]
  },
  {
   "cell_type": "code",
   "execution_count": null,
   "metadata": {},
   "outputs": [],
   "source": []
  }
 ],
 "metadata": {
  "kernelspec": {
   "display_name": "Python 3",
   "language": "python",
   "name": "python3"
  },
  "language_info": {
   "codemirror_mode": {
    "name": "ipython",
    "version": 3
   },
   "file_extension": ".py",
   "mimetype": "text/x-python",
   "name": "python",
   "nbconvert_exporter": "python",
   "pygments_lexer": "ipython3",
   "version": "3.7.1"
  }
 },
 "nbformat": 4,
 "nbformat_minor": 2
}
